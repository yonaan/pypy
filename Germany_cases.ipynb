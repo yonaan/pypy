{
  "nbformat": 4,
  "nbformat_minor": 0,
  "metadata": {
    "colab": {
      "name": "Germany_cases.ipynb",
      "provenance": [],
      "mount_file_id": "1UBfbRpev0KFvJrNZH5Pf7RFTKc0zKnSA",
      "authorship_tag": "ABX9TyN1gQGrnOq2iNH5bs80w3cH",
      "include_colab_link": true
    },
    "kernelspec": {
      "name": "python3",
      "display_name": "Python 3"
    },
    "language_info": {
      "name": "python"
    }
  },
  "cells": [
    {
      "cell_type": "markdown",
      "metadata": {
        "id": "view-in-github",
        "colab_type": "text"
      },
      "source": [
        "<a href=\"https://colab.research.google.com/github/yonaan/pypy/blob/main/Germany_cases.ipynb\" target=\"_parent\"><img src=\"https://colab.research.google.com/assets/colab-badge.svg\" alt=\"Open In Colab\"/></a>"
      ]
    },
    {
      "cell_type": "code",
      "execution_count": null,
      "metadata": {
        "colab": {
          "base_uri": "https://localhost:8080/"
        },
        "id": "eZ5MFyUDp_x7",
        "outputId": "68133ad4-fe45-4564-bd1c-3e836cc171bf"
      },
      "outputs": [
        {
          "output_type": "stream",
          "name": "stdout",
          "text": [
            "Mounted at /content/drive\n"
          ]
        }
      ],
      "source": [
        "from google.colab import drive\n",
        "drive.mount('/content/drive', force_remount=True)"
      ]
    },
    {
      "cell_type": "code",
      "source": [
        "cd /content/drive/MyDrive/dataset"
      ],
      "metadata": {
        "colab": {
          "base_uri": "https://localhost:8080/"
        },
        "id": "P8wsoqU63vlU",
        "outputId": "75a60aac-5e8a-4d02-874d-19afa4575341"
      },
      "execution_count": null,
      "outputs": [
        {
          "output_type": "stream",
          "name": "stdout",
          "text": [
            "/content/drive/MyDrive/dataset\n"
          ]
        }
      ]
    },
    {
      "cell_type": "code",
      "source": [
        "ls "
      ],
      "metadata": {
        "colab": {
          "base_uri": "https://localhost:8080/"
        },
        "id": "gMzj3RfSq4Pg",
        "outputId": "396bda15-d838-47b3-da00-157514f661f8"
      },
      "execution_count": null,
      "outputs": [
        {
          "output_type": "stream",
          "name": "stdout",
          "text": [
            "Germany_Cases.xlsx    Germany.xlsx  ukcase.xlsx  \u001b[0m\u001b[01;34mv8\u001b[0m/\n",
            "Germany_Tourist.xlsx  \u001b[01;34mI6\u001b[0m/           \u001b[01;34mv12\u001b[0m/\n"
          ]
        }
      ]
    },
    {
      "cell_type": "code",
      "source": [
        "import tensorflow as tf\n",
        "import numpy as np\n",
        "import pandas as pd\n",
        "from tensorflow import keras\n",
        "from tensorflow.keras.optimizers import Adam"
      ],
      "metadata": {
        "id": "7fQznjNHq4_H"
      },
      "execution_count": null,
      "outputs": []
    },
    {
      "cell_type": "code",
      "source": [
        "tb=pd.read_excel(r'Germany_Cases.xlsx',usecols=\"B,A\")\n",
        "print(tb)\n",
        "#dta=tb['Covid Cases'].to_numpy()\n",
        "no=tb['no'].to_numpy()\n",
        "arv=tb['Covid Cases'].to_numpy()\n",
        "np.set_printoptions(suppress=True)\n",
        "print(\"\\n\",no,\"\\n\",arv)"
      ],
      "metadata": {
        "colab": {
          "base_uri": "https://localhost:8080/"
        },
        "id": "Mk6Yjehe3qzh",
        "outputId": "3546c63e-250e-45aa-e199-15424b3a8936"
      },
      "execution_count": null,
      "outputs": [
        {
          "output_type": "stream",
          "name": "stdout",
          "text": [
            "    Covid Cases  no\n",
            "0           6.0   1\n",
            "1          60.0   2\n",
            "2       61847.0   3\n",
            "3       97206.0   4\n",
            "4       22363.0   5\n",
            "5       12777.0   6\n",
            "6       14439.0   7\n",
            "7       33683.0   8\n",
            "8       46838.0   9\n",
            "9      229534.0  10\n",
            "10     535116.0  11\n",
            "11     665868.0  12\n",
            "12     496626.0  13\n",
            "13     225973.0  14\n",
            "14     366537.0  15\n",
            "15     572724.0  16\n",
            "16     299529.0  17\n",
            "17      47015.0  18\n",
            "18      41024.0  19\n",
            "19     173691.0  20\n",
            "20     284645.0  21\n",
            "21     370049.0  22\n",
            "22    1268132.0  23\n",
            "23    2384759.0  24\n",
            "24    5526902.0  25\n",
            "25    5454909.0  26\n",
            "26    1208318.0  27\n",
            "\n",
            " [ 1  2  3  4  5  6  7  8  9 10 11 12 13 14 15 16 17 18 19 20 21 22 23 24\n",
            " 25 26 27] \n",
            " [      6.      60.   61847.   97206.   22363.   12777.   14439.   33683.\n",
            "   46838.  229534.  535116.  665868.  496626.  225973.  366537.  572724.\n",
            "  299529.   47015.   41024.  173691.  284645.  370049. 1268132. 2384759.\n",
            " 5526902. 5454909. 1208318.]\n"
          ]
        }
      ]
    },
    {
      "cell_type": "code",
      "source": [
        "model=tf.keras.Sequential([keras.layers.Dense(units=1, input_shape=[1])])\n",
        "opt = Adam(learning_rate=1e-3, decay=1e-3 / 50)\n",
        "model.compile(optimizer=opt, loss=\"mean_squared_error\")\n",
        "\n",
        "xs=np.array(no,dtype=float)\n",
        "ys=np.array(arv,dtype=float)\n",
        "\n",
        "model.fit(xs,ys,epochs=50)\n",
        "\n",
        "results=model.predict([27])\n",
        "np.set_printoptions(suppress=True)\n",
        "print(results)"
      ],
      "metadata": {
        "colab": {
          "base_uri": "https://localhost:8080/"
        },
        "id": "THYiu5bn12yA",
        "outputId": "bb903b8a-5790-4a2e-e467-6ef60c2d45e2"
      },
      "execution_count": null,
      "outputs": [
        {
          "output_type": "stream",
          "name": "stdout",
          "text": [
            "Epoch 1/50\n",
            "1/1 [==============================] - 0s 348ms/step - loss: 2628092690432.0000\n",
            "Epoch 2/50\n",
            "1/1 [==============================] - 0s 7ms/step - loss: 2628092690432.0000\n",
            "Epoch 3/50\n",
            "1/1 [==============================] - 0s 6ms/step - loss: 2628092690432.0000\n",
            "Epoch 4/50\n",
            "1/1 [==============================] - 0s 7ms/step - loss: 2628092690432.0000\n",
            "Epoch 5/50\n",
            "1/1 [==============================] - 0s 6ms/step - loss: 2628093214720.0000\n",
            "Epoch 6/50\n",
            "1/1 [==============================] - 0s 8ms/step - loss: 2628092690432.0000\n",
            "Epoch 7/50\n",
            "1/1 [==============================] - 0s 8ms/step - loss: 2628092690432.0000\n",
            "Epoch 8/50\n",
            "1/1 [==============================] - 0s 20ms/step - loss: 2628092690432.0000\n",
            "Epoch 9/50\n",
            "1/1 [==============================] - 0s 10ms/step - loss: 2628092428288.0000\n",
            "Epoch 10/50\n",
            "1/1 [==============================] - 0s 9ms/step - loss: 2628092690432.0000\n",
            "Epoch 11/50\n",
            "1/1 [==============================] - 0s 20ms/step - loss: 2628092428288.0000\n",
            "Epoch 12/50\n",
            "1/1 [==============================] - 0s 7ms/step - loss: 2628092428288.0000\n",
            "Epoch 13/50\n",
            "1/1 [==============================] - 0s 6ms/step - loss: 2628092428288.0000\n",
            "Epoch 14/50\n",
            "1/1 [==============================] - 0s 12ms/step - loss: 2628092166144.0000\n",
            "Epoch 15/50\n",
            "1/1 [==============================] - 0s 7ms/step - loss: 2628092428288.0000\n",
            "Epoch 16/50\n",
            "1/1 [==============================] - 0s 7ms/step - loss: 2628092428288.0000\n",
            "Epoch 17/50\n",
            "1/1 [==============================] - 0s 6ms/step - loss: 2628092690432.0000\n",
            "Epoch 18/50\n",
            "1/1 [==============================] - 0s 7ms/step - loss: 2628092166144.0000\n",
            "Epoch 19/50\n",
            "1/1 [==============================] - 0s 7ms/step - loss: 2628091904000.0000\n",
            "Epoch 20/50\n",
            "1/1 [==============================] - 0s 12ms/step - loss: 2628092166144.0000\n",
            "Epoch 21/50\n",
            "1/1 [==============================] - 0s 7ms/step - loss: 2628092166144.0000\n",
            "Epoch 22/50\n",
            "1/1 [==============================] - 0s 8ms/step - loss: 2628092166144.0000\n",
            "Epoch 23/50\n",
            "1/1 [==============================] - 0s 8ms/step - loss: 2628092166144.0000\n",
            "Epoch 24/50\n",
            "1/1 [==============================] - 0s 7ms/step - loss: 2628092166144.0000\n",
            "Epoch 25/50\n",
            "1/1 [==============================] - 0s 7ms/step - loss: 2628092166144.0000\n",
            "Epoch 26/50\n",
            "1/1 [==============================] - 0s 7ms/step - loss: 2628092166144.0000\n",
            "Epoch 27/50\n",
            "1/1 [==============================] - 0s 8ms/step - loss: 2628091904000.0000\n",
            "Epoch 28/50\n",
            "1/1 [==============================] - 0s 7ms/step - loss: 2628091904000.0000\n",
            "Epoch 29/50\n",
            "1/1 [==============================] - 0s 7ms/step - loss: 2628091904000.0000\n",
            "Epoch 30/50\n",
            "1/1 [==============================] - 0s 7ms/step - loss: 2628091641856.0000\n",
            "Epoch 31/50\n",
            "1/1 [==============================] - 0s 8ms/step - loss: 2628091904000.0000\n",
            "Epoch 32/50\n",
            "1/1 [==============================] - 0s 10ms/step - loss: 2628091904000.0000\n",
            "Epoch 33/50\n",
            "1/1 [==============================] - 0s 11ms/step - loss: 2628091904000.0000\n",
            "Epoch 34/50\n",
            "1/1 [==============================] - 0s 8ms/step - loss: 2628091904000.0000\n",
            "Epoch 35/50\n",
            "1/1 [==============================] - 0s 8ms/step - loss: 2628091904000.0000\n",
            "Epoch 36/50\n",
            "1/1 [==============================] - 0s 8ms/step - loss: 2628091904000.0000\n",
            "Epoch 37/50\n",
            "1/1 [==============================] - 0s 8ms/step - loss: 2628091641856.0000\n",
            "Epoch 38/50\n",
            "1/1 [==============================] - 0s 8ms/step - loss: 2628091904000.0000\n",
            "Epoch 39/50\n",
            "1/1 [==============================] - 0s 8ms/step - loss: 2628091641856.0000\n",
            "Epoch 40/50\n",
            "1/1 [==============================] - 0s 8ms/step - loss: 2628091641856.0000\n",
            "Epoch 41/50\n",
            "1/1 [==============================] - 0s 10ms/step - loss: 2628091641856.0000\n",
            "Epoch 42/50\n",
            "1/1 [==============================] - 0s 11ms/step - loss: 2628091641856.0000\n",
            "Epoch 43/50\n",
            "1/1 [==============================] - 0s 8ms/step - loss: 2628091641856.0000\n",
            "Epoch 44/50\n",
            "1/1 [==============================] - 0s 10ms/step - loss: 2628091117568.0000\n",
            "Epoch 45/50\n",
            "1/1 [==============================] - 0s 8ms/step - loss: 2628091641856.0000\n",
            "Epoch 46/50\n",
            "1/1 [==============================] - 0s 17ms/step - loss: 2628091641856.0000\n",
            "Epoch 47/50\n",
            "1/1 [==============================] - 0s 12ms/step - loss: 2628091641856.0000\n",
            "Epoch 48/50\n",
            "1/1 [==============================] - 0s 8ms/step - loss: 2628091117568.0000\n",
            "Epoch 49/50\n",
            "1/1 [==============================] - 0s 8ms/step - loss: 2628091117568.0000\n",
            "Epoch 50/50\n",
            "1/1 [==============================] - 0s 8ms/step - loss: 2628090855424.0000\n",
            "[[34.10696]]\n"
          ]
        }
      ]
    }
  ]
}