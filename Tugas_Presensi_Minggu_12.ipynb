{
  "nbformat": 4,
  "nbformat_minor": 0,
  "metadata": {
    "colab": {
      "name": "Tugas Presensi Minggu 12.ipynb",
      "provenance": [],
      "collapsed_sections": [],
      "authorship_tag": "ABX9TyNOJRC39EEwPWfBkjoTOd8p",
      "include_colab_link": true
    },
    "kernelspec": {
      "name": "python3",
      "display_name": "Python 3"
    }
  },
  "cells": [
    {
      "cell_type": "markdown",
      "metadata": {
        "id": "view-in-github",
        "colab_type": "text"
      },
      "source": [
        "<a href=\"https://colab.research.google.com/github/yonaan/pypy/blob/main/Tugas_Presensi_Minggu_12.ipynb\" target=\"_parent\"><img src=\"https://colab.research.google.com/assets/colab-badge.svg\" alt=\"Open In Colab\"/></a>"
      ]
    },
    {
      "cell_type": "code",
      "metadata": {
        "id": "iRNsqOBtRkWV"
      },
      "source": [
        "import numpy as np"
      ],
      "execution_count": 1,
      "outputs": []
    },
    {
      "cell_type": "code",
      "metadata": {
        "id": "Iwj6_Rn_RtkG"
      },
      "source": [
        "#Number to Logaritmic\r\n",
        "tlog = lambda n: 10*np.log10(n)"
      ],
      "execution_count": 2,
      "outputs": []
    },
    {
      "cell_type": "code",
      "metadata": {
        "id": "GLa-ZSjrRtuV"
      },
      "source": [
        "#Logaritmic to Number\r\n",
        "tnum = lambda n: 10**(n/10)"
      ],
      "execution_count": 3,
      "outputs": []
    },
    {
      "cell_type": "code",
      "metadata": {
        "id": "3sxlN8tQRt-X"
      },
      "source": [
        "# Determining c1 and c2 value\r\n",
        "\r\n",
        "def c (fc):\r\n",
        "  if (fc >= 400 and fc <= 1500):\r\n",
        "    c1 = 69.55\r\n",
        "    c2 = 26.16\r\n",
        "    return c1,c2\r\n",
        "  elif (fc >1500 and fc <= 2000):\r\n",
        "    c1 = 46.3\r\n",
        "    c2 = 33.9\r\n",
        "    return c1,c2\r\n",
        "  else:\r\n",
        "    c1 = print(\"frequency is out of range\")\r\n",
        "    c2 = print(\"frequency is out of range\")\r\n",
        "    return c1,c2\r\n"
      ],
      "execution_count": 4,
      "outputs": []
    },
    {
      "cell_type": "code",
      "metadata": {
        "colab": {
          "base_uri": "https://localhost:8080/"
        },
        "id": "-CG4-R33RyMU",
        "outputId": "10ee66c6-7dd4-4491-fd64-800d8646b092"
      },
      "source": [
        "# Testing c1 and c2 function\r\n",
        "\r\n",
        "c1,c2 = c(500)\r\n",
        "\r\n",
        "print(\"c1 value is: \",c1)\r\n",
        "\r\n",
        "print(\"c2 value is: \",c2)"
      ],
      "execution_count": 5,
      "outputs": [
        {
          "output_type": "stream",
          "text": [
            "c1 value is:  69.55\n",
            "c2 value is:  26.16\n"
          ],
          "name": "stdout"
        }
      ]
    },
    {
      "cell_type": "code",
      "metadata": {
        "colab": {
          "base_uri": "https://localhost:8080/"
        },
        "id": "8Ui_p6y4RyUV",
        "outputId": "77645d09-07d8-4a99-9581-fadff45efe49"
      },
      "source": [
        "# Testing c1 and c2 function\r\n",
        "\r\n",
        "c1,c2 = c(2000)\r\n",
        "\r\n",
        "print(\"c1 value is: \",c1)\r\n",
        "\r\n",
        "print(\"c2 value is: \",c2)"
      ],
      "execution_count": 6,
      "outputs": [
        {
          "output_type": "stream",
          "text": [
            "c1 value is:  46.3\n",
            "c2 value is:  33.9\n"
          ],
          "name": "stdout"
        }
      ]
    },
    {
      "cell_type": "code",
      "metadata": {
        "colab": {
          "base_uri": "https://localhost:8080/"
        },
        "id": "WCKo0oooR1Jb",
        "outputId": "6203ded3-06be-456a-a450-59ca80b8ca25"
      },
      "source": [
        "# Testing c1 and c2 function\r\n",
        "\r\n",
        "c1,c2 = c(10)\r\n",
        "\r\n",
        "print(\"c1 value is: \",c1)\r\n",
        "\r\n",
        "print(\"c2 value is: \",c2)"
      ],
      "execution_count": 7,
      "outputs": [
        {
          "output_type": "stream",
          "text": [
            "frequency is out of range\n",
            "frequency is out of range\n",
            "c1 value is:  None\n",
            "c2 value is:  None\n"
          ],
          "name": "stdout"
        }
      ]
    },
    {
      "cell_type": "code",
      "metadata": {
        "id": "r5vFh0B5R1ZE"
      },
      "source": [
        "#calculating a(hr)\r\n",
        "\r\n",
        "def a(fc,hr):\r\n",
        "  valueA = (1.1*np.log10(fc)-0.7)*hr - (1.56*np.log(fc) - 0.8)\r\n",
        "  return valueA"
      ],
      "execution_count": 8,
      "outputs": []
    },
    {
      "cell_type": "code",
      "metadata": {
        "colab": {
          "base_uri": "https://localhost:8080/"
        },
        "id": "3YoA5oWiR3_B",
        "outputId": "40ff97fe-cbb2-430b-d7a7-c1342f269930"
      },
      "source": [
        "# Testing the given input of Value a\r\n",
        "\r\n",
        "aj= a(150,20)\r\n",
        "\r\n",
        "print(\"A= \",aj)"
      ],
      "execution_count": 9,
      "outputs": [
        {
          "output_type": "stream",
          "text": [
            "A=  26.85741664043483\n"
          ],
          "name": "stdout"
        }
      ]
    },
    {
      "cell_type": "code",
      "metadata": {
        "id": "LTkXGUw0R4D2"
      },
      "source": [
        "# to calculate Cm value\r\n",
        "def ncm(area,fc):\r\n",
        "  if area == 'urban':\r\n",
        "    cm=0\r\n",
        "    return cm\r\n",
        "  elif area == 'suburban':\r\n",
        "    cm=-2*(np.log10(fc/28))**2 - 5.4\r\n",
        "    return cm\r\n",
        "  elif area == 'open':\r\n",
        "    cm=-4.78*(np.log10(fc))**2+18.33*np.log10(fc)-40.94\r\n",
        "    return cm \r\n",
        "  else:\r\n",
        "    cm= print('unknown')\r\n",
        "    return cm"
      ],
      "execution_count": 10,
      "outputs": []
    },
    {
      "cell_type": "code",
      "metadata": {
        "colab": {
          "base_uri": "https://localhost:8080/"
        },
        "id": "TNQHEOKuR6W7",
        "outputId": "c8f2af23-6eb5-4c2b-857d-68f98425a443"
      },
      "source": [
        "# Testing Cm function\r\n",
        "\r\n",
        "cval = ncm('open',700)\r\n",
        "print(\"Cm=\", cval)"
      ],
      "execution_count": 11,
      "outputs": [
        {
          "output_type": "stream",
          "text": [
            "Cm= -27.481458984399055\n"
          ],
          "name": "stdout"
        }
      ]
    },
    {
      "cell_type": "markdown",
      "metadata": {
        "id": "H4W7h49BR9rk"
      },
      "source": [
        "main\r\n",
        "\r\n",
        "freq=1100;transmitter height=150;receiver height=13;distance=100;area=open"
      ]
    },
    {
      "cell_type": "code",
      "metadata": {
        "colab": {
          "base_uri": "https://localhost:8080/"
        },
        "id": "LRPR1RW4R6Zg",
        "outputId": "f1596272-1dd3-46ee-eef7-b84c80f74d79"
      },
      "source": [
        "print(\"Enter the value of: frequency; transmitter height; receiver height; distance\")\r\n",
        "vals=[]\r\n",
        "\r\n",
        "for i in range(0, 4): \r\n",
        "    lmn = int(input()) \r\n",
        "    \r\n",
        "    vals.append(lmn)\r\n",
        "\r\n",
        "print(\"\\nSpecify the area\")\r\n",
        "area=input()\r\n",
        "c1,c2 = c(vals[0])\r\n",
        "print(\"\\nc1 value is: \",c1)\r\n",
        "print(\"c2 value is: \",c2)\r\n",
        "\r\n",
        "aj= a(vals[0],vals[2])\r\n",
        "print(\"A= \",aj)\r\n",
        "\r\n",
        "cmval = ncm(area,vals[0])\r\n",
        "print(\"Cm=\", cmval,'\\n\\n')\r\n",
        "\r\n",
        "Lp = c1+(c2*np.log10(vals[0]))-(13.83*np.log10(vals[1]))-aj+(44.9-6.55*np.log10(vals[1])*np.log10(vals[3])+cmval)\r\n",
        "print('Pathloss= ',Lp)\r\n",
        "\r\n",
        "Lpdb=tlog(Lp)\r\n",
        "print('Pathloss in db= ',Lpdb,'dB')"
      ],
      "execution_count": 13,
      "outputs": [
        {
          "output_type": "stream",
          "text": [
            "Enter the value of: frequency; transmitter height; receiver height; distance\n",
            "1100\n",
            "150\n",
            "13\n",
            "100\n",
            "\n",
            "Specify the area\n",
            "open\n",
            "\n",
            "c1 value is:  69.55\n",
            "c2 value is:  26.16\n",
            "A=  24.267133282055738\n",
            "Cm= -29.406604125346057 \n",
            "\n",
            "\n",
            "Pathloss=  81.73695762996789\n",
            "Pathloss in db=  19.12418468595704 dB\n"
          ],
          "name": "stdout"
        }
      ]
    }
  ]
}