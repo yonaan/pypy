{
  "nbformat": 4,
  "nbformat_minor": 0,
  "metadata": {
    "kernelspec": {
      "name": "python3",
      "display_name": "Python 3"
    },
    "language_info": {
      "codemirror_mode": {
        "name": "ipython",
        "version": 3
      },
      "file_extension": ".py",
      "mimetype": "text/x-python",
      "name": "python",
      "nbconvert_exporter": "python",
      "pygments_lexer": "ipython3",
      "version": "3.7.4"
    },
    "colab": {
      "name": "CLOUD CLASSIFIER.ipynb",
      "provenance": [],
      "collapsed_sections": [],
      "include_colab_link": true
    },
    "accelerator": "GPU"
  },
  "cells": [
    {
      "cell_type": "markdown",
      "metadata": {
        "id": "view-in-github",
        "colab_type": "text"
      },
      "source": [
        "<a href=\"https://colab.research.google.com/github/yonaan/pypy/blob/main/CLOUD_CLASSIFIER.ipynb\" target=\"_parent\"><img src=\"https://colab.research.google.com/assets/colab-badge.svg\" alt=\"Open In Colab\"/></a>"
      ]
    },
    {
      "cell_type": "code",
      "metadata": {
        "id": "_dJvuvIBVLS_",
        "colab": {
          "base_uri": "https://localhost:8080/"
        },
        "outputId": "2ca1c113-55af-4aa8-9f3c-42b1fa2ae87c"
      },
      "source": [
        "from google.colab import drive\n",
        "drive.mount('/content/drive', force_remount=True)"
      ],
      "execution_count": null,
      "outputs": [
        {
          "output_type": "stream",
          "text": [
            "Mounted at /content/drive\n"
          ],
          "name": "stdout"
        }
      ]
    },
    {
      "cell_type": "code",
      "metadata": {
        "id": "H215ikbNVVZS",
        "colab": {
          "base_uri": "https://localhost:8080/"
        },
        "outputId": "2d95d0f7-8c18-4f74-adf4-912ff42d0d6d"
      },
      "source": [
        "cd /content/drive/MyDrive/Colab Notebooks"
      ],
      "execution_count": null,
      "outputs": [
        {
          "output_type": "stream",
          "text": [
            "/content/drive/MyDrive/Colab Notebooks\n"
          ],
          "name": "stdout"
        }
      ]
    },
    {
      "cell_type": "code",
      "metadata": {
        "colab": {
          "base_uri": "https://localhost:8080/"
        },
        "id": "EizQl1Ennyc7",
        "outputId": "33d4c59d-6aae-466f-f83f-e16705c62519"
      },
      "source": [
        "ls"
      ],
      "execution_count": null,
      "outputs": [
        {
          "output_type": "stream",
          "text": [
            " best_weight_scene_mobileNet.h5   nnsignalproc.ipynb\n",
            " class6signalproc.ipynb          'Salinan dari PYmg12.ipynb'\n",
            " \u001b[0m\u001b[01;34mclouds\u001b[0m/                         'Salinan dari Tugas14Divo.ipynb'\n",
            "'Copy of nndaun.ipynb'            \u001b[01;34mscene\u001b[0m/\n",
            " \u001b[01;34mdataset\u001b[0m/                         signproc.ipynb\n",
            " forest_test.jpg                  \u001b[01;34msound\u001b[0m/\n",
            " leaf_test.jpg                    soundclassification.ipynb\n",
            " \u001b[01;34mleaves\u001b[0m/                          tugasmgg14.ipynb\n",
            " m12                             'Tugas Minggu 12'\n",
            " nndaun.ipynb                    'Tugas Presensi Minggu 12.ipynb'\n",
            " nn.ipynb                        'Tugas presensi minggu 13-grafik1.ipynb'\n",
            " \u001b[01;34mnnmodel_cloud\u001b[0m/                  'Tugas presensi minggu 13-grafik2.ipynb'\n",
            " \u001b[01;34mnnmodel_scene\u001b[0m/\n"
          ],
          "name": "stdout"
        }
      ]
    },
    {
      "cell_type": "code",
      "metadata": {
        "id": "5IGm26ZzVGBs"
      },
      "source": [
        "from keras.models import Sequential\n",
        "from keras.layers.convolutional import Conv2D\n",
        "from keras.layers.convolutional import MaxPooling2D\n",
        "from keras.layers.core import Activation\n",
        "from keras.layers.core import Flatten\n",
        "from keras.layers.core import Dense\n",
        "from keras.optimizers import Adam\n",
        "from sklearn.preprocessing import LabelBinarizer\n",
        "from sklearn.model_selection import train_test_split\n",
        "from sklearn.metrics import classification_report\n",
        "from PIL import Image\n",
        "from imutils import paths\n",
        "import numpy as np\n",
        "import os"
      ],
      "execution_count": null,
      "outputs": []
    },
    {
      "cell_type": "code",
      "metadata": {
        "id": "0-5PXYTsVGBw",
        "colab": {
          "base_uri": "https://localhost:8080/"
        },
        "outputId": "cfc565cf-46cd-4c4e-85d7-5e5767cdbd91"
      },
      "source": [
        "\n",
        "print(\"loading images...\")\n",
        "imagePaths = paths.list_images(\"clouds\")\n",
        "data = []\n",
        "labels = []"
      ],
      "execution_count": null,
      "outputs": [
        {
          "output_type": "stream",
          "text": [
            "loading images...\n"
          ],
          "name": "stdout"
        }
      ]
    },
    {
      "cell_type": "code",
      "metadata": {
        "id": "9Q-KXSsGVGB0"
      },
      "source": [
        "for imagePath in imagePaths:\n",
        "\timage = Image.open(imagePath)\n",
        "\timage = np.array(image.resize((224, 224))) / 255.0\n",
        "\tdata.append(image)\n",
        "\n",
        "\tlabel = imagePath.split(os.path.sep)[-2]\n",
        "\tlabels.append(label)"
      ],
      "execution_count": null,
      "outputs": []
    },
    {
      "cell_type": "code",
      "metadata": {
        "id": "Rzbolh88VGB2",
        "colab": {
          "base_uri": "https://localhost:8080/"
        },
        "outputId": "f7cbb484-84a7-4434-8432-467d174740a2"
      },
      "source": [
        "print(labels)"
      ],
      "execution_count": null,
      "outputs": [
        {
          "output_type": "stream",
          "text": [
            "['contrails', 'contrails', 'contrails', 'contrails', 'contrails', 'contrails', 'contrails', 'contrails', 'contrails', 'contrails', 'contrails', 'contrails', 'contrails', 'contrails', 'contrails', 'contrails', 'contrails', 'contrails', 'contrails', 'contrails', 'contrails', 'contrails', 'contrails', 'contrails', 'contrails', 'contrails', 'contrails', 'contrails', 'contrails', 'contrails', 'contrails', 'contrails', 'contrails', 'contrails', 'contrails', 'contrails', 'contrails', 'contrails', 'contrails', 'contrails', 'contrails', 'contrails', 'contrails', 'contrails', 'contrails', 'contrails', 'contrails', 'contrails', 'contrails', 'contrails', 'contrails', 'contrails', 'contrails', 'contrails', 'contrails', 'contrails', 'contrails', 'contrails', 'contrails', 'contrails', 'contrails', 'contrails', 'contrails', 'contrails', 'contrails', 'contrails', 'contrails', 'contrails', 'contrails', 'contrails', 'contrails', 'contrails', 'contrails', 'contrails', 'contrails', 'contrails', 'contrails', 'contrails', 'contrails', 'contrails', 'contrails', 'contrails', 'contrails', 'contrails', 'contrails', 'contrails', 'contrails', 'contrails', 'contrails', 'contrails', 'contrails', 'contrails', 'contrails', 'contrails', 'contrails', 'contrails', 'contrails', 'contrails', 'contrails', 'contrails', 'contrails', 'contrails', 'contrails', 'contrails', 'contrails', 'contrails', 'contrails', 'contrails', 'cirrocumulus', 'cirrocumulus', 'cirrocumulus', 'cirrocumulus', 'cirrocumulus', 'cirrocumulus', 'cirrocumulus', 'cirrocumulus', 'cirrocumulus', 'cirrocumulus', 'cirrocumulus', 'cirrocumulus', 'cirrocumulus', 'cirrocumulus', 'cirrocumulus', 'cirrocumulus', 'cirrocumulus', 'cirrocumulus', 'cirrocumulus', 'cirrocumulus', 'cirrocumulus', 'cirrocumulus', 'cirrocumulus', 'cirrocumulus', 'cirrocumulus', 'cirrocumulus', 'cirrocumulus', 'cirrocumulus', 'cirrocumulus', 'cirrocumulus', 'cirrocumulus', 'cirrocumulus', 'cirrocumulus', 'cirrocumulus', 'cirrocumulus', 'cirrocumulus', 'cirrocumulus', 'cirrocumulus', 'cirrocumulus', 'cirrocumulus', 'cirrocumulus', 'cirrocumulus', 'cirrocumulus', 'cirrocumulus', 'cirrocumulus', 'cirrocumulus', 'cirrocumulus', 'cirrocumulus', 'cirrocumulus', 'cirrocumulus', 'cirrocumulus', 'cirrocumulus', 'cirrocumulus', 'cirrocumulus', 'cirrocumulus', 'cirrocumulus', 'cirrocumulus', 'cirrocumulus', 'cirrocumulus', 'cirrocumulus', 'cirrocumulus', 'cirrocumulus', 'cirrocumulus', 'cirrocumulus', 'cirrocumulus', 'cirrocumulus', 'cirrocumulus', 'cirrocumulus', 'cirrocumulus', 'cirrocumulus', 'cirrocumulus', 'cirrocumulus', 'cirrocumulus', 'cirrocumulus', 'cirrocumulus', 'cirrocumulus', 'cirrocumulus', 'cirrocumulus', 'cirrocumulus', 'cirrocumulus', 'cirrocumulus', 'cirrocumulus', 'cirrocumulus', 'cirrocumulus', 'cirrocumulus', 'cirrocumulus', 'cirrocumulus', 'cirrocumulus', 'cirrocumulus', 'cirrocumulus', 'cirrocumulus', 'cirrocumulus', 'cirrocumulus', 'cirrocumulus', 'cirrocumulus', 'cirrocumulus', 'cirrocumulus', 'cirrocumulus', 'cirrocumulus', 'cirrocumulus', 'cirrocumulus', 'cirrocumulus', 'cirrocumulus', 'cirrus', 'cirrus', 'cirrus', 'cirrus', 'cirrus', 'cirrus', 'cirrus', 'cirrus', 'cirrus', 'cirrus', 'cirrus', 'cirrus', 'cirrus', 'cirrus', 'cirrus', 'cirrus', 'cirrus', 'cirrus', 'cirrus', 'cirrus', 'cirrus', 'cirrus', 'cirrus', 'cirrus', 'cirrus', 'cirrus', 'cirrus', 'cirrus', 'cirrus', 'cirrus', 'cirrus', 'cirrus', 'cirrus', 'cirrus', 'cirrus', 'cirrus', 'cirrus', 'cirrus', 'cirrus', 'cirrus', 'cirrus', 'cirrus', 'cirrus', 'cirrus', 'cirrus', 'cirrus', 'cirrus', 'cirrus', 'cirrus', 'cirrus', 'cirrus', 'cirrus', 'cirrus', 'cirrus', 'cirrus', 'cirrus', 'cirrus', 'cirrus', 'cirrus', 'cirrus', 'cirrus', 'cirrus', 'cirrus', 'cirrus', 'cirrus', 'cirrus', 'cirrus', 'cirrus', 'cirrus', 'cirrus', 'cirrus', 'cirrus', 'cirrus', 'cirrus', 'cirrus', 'cirrus']\n"
          ],
          "name": "stdout"
        }
      ]
    },
    {
      "cell_type": "code",
      "metadata": {
        "id": "twd1IeuKVGB5"
      },
      "source": [
        "lb = LabelBinarizer()\n",
        "labels = lb.fit_transform(labels)"
      ],
      "execution_count": null,
      "outputs": []
    },
    {
      "cell_type": "code",
      "metadata": {
        "id": "5FPCyIqcVGB7",
        "colab": {
          "base_uri": "https://localhost:8080/"
        },
        "outputId": "c5641471-bbf5-4261-f12b-6e57fdbf4ad4"
      },
      "source": [
        "print(labels)"
      ],
      "execution_count": null,
      "outputs": [
        {
          "output_type": "stream",
          "text": [
            "[[0 0 1]\n",
            " [0 0 1]\n",
            " [0 0 1]\n",
            " [0 0 1]\n",
            " [0 0 1]\n",
            " [0 0 1]\n",
            " [0 0 1]\n",
            " [0 0 1]\n",
            " [0 0 1]\n",
            " [0 0 1]\n",
            " [0 0 1]\n",
            " [0 0 1]\n",
            " [0 0 1]\n",
            " [0 0 1]\n",
            " [0 0 1]\n",
            " [0 0 1]\n",
            " [0 0 1]\n",
            " [0 0 1]\n",
            " [0 0 1]\n",
            " [0 0 1]\n",
            " [0 0 1]\n",
            " [0 0 1]\n",
            " [0 0 1]\n",
            " [0 0 1]\n",
            " [0 0 1]\n",
            " [0 0 1]\n",
            " [0 0 1]\n",
            " [0 0 1]\n",
            " [0 0 1]\n",
            " [0 0 1]\n",
            " [0 0 1]\n",
            " [0 0 1]\n",
            " [0 0 1]\n",
            " [0 0 1]\n",
            " [0 0 1]\n",
            " [0 0 1]\n",
            " [0 0 1]\n",
            " [0 0 1]\n",
            " [0 0 1]\n",
            " [0 0 1]\n",
            " [0 0 1]\n",
            " [0 0 1]\n",
            " [0 0 1]\n",
            " [0 0 1]\n",
            " [0 0 1]\n",
            " [0 0 1]\n",
            " [0 0 1]\n",
            " [0 0 1]\n",
            " [0 0 1]\n",
            " [0 0 1]\n",
            " [0 0 1]\n",
            " [0 0 1]\n",
            " [0 0 1]\n",
            " [0 0 1]\n",
            " [0 0 1]\n",
            " [0 0 1]\n",
            " [0 0 1]\n",
            " [0 0 1]\n",
            " [0 0 1]\n",
            " [0 0 1]\n",
            " [0 0 1]\n",
            " [0 0 1]\n",
            " [0 0 1]\n",
            " [0 0 1]\n",
            " [0 0 1]\n",
            " [0 0 1]\n",
            " [0 0 1]\n",
            " [0 0 1]\n",
            " [0 0 1]\n",
            " [0 0 1]\n",
            " [0 0 1]\n",
            " [0 0 1]\n",
            " [0 0 1]\n",
            " [0 0 1]\n",
            " [0 0 1]\n",
            " [0 0 1]\n",
            " [0 0 1]\n",
            " [0 0 1]\n",
            " [0 0 1]\n",
            " [0 0 1]\n",
            " [0 0 1]\n",
            " [0 0 1]\n",
            " [0 0 1]\n",
            " [0 0 1]\n",
            " [0 0 1]\n",
            " [0 0 1]\n",
            " [0 0 1]\n",
            " [0 0 1]\n",
            " [0 0 1]\n",
            " [0 0 1]\n",
            " [0 0 1]\n",
            " [0 0 1]\n",
            " [0 0 1]\n",
            " [0 0 1]\n",
            " [0 0 1]\n",
            " [0 0 1]\n",
            " [0 0 1]\n",
            " [0 0 1]\n",
            " [0 0 1]\n",
            " [0 0 1]\n",
            " [0 0 1]\n",
            " [0 0 1]\n",
            " [0 0 1]\n",
            " [0 0 1]\n",
            " [0 0 1]\n",
            " [0 0 1]\n",
            " [0 0 1]\n",
            " [0 0 1]\n",
            " [1 0 0]\n",
            " [1 0 0]\n",
            " [1 0 0]\n",
            " [1 0 0]\n",
            " [1 0 0]\n",
            " [1 0 0]\n",
            " [1 0 0]\n",
            " [1 0 0]\n",
            " [1 0 0]\n",
            " [1 0 0]\n",
            " [1 0 0]\n",
            " [1 0 0]\n",
            " [1 0 0]\n",
            " [1 0 0]\n",
            " [1 0 0]\n",
            " [1 0 0]\n",
            " [1 0 0]\n",
            " [1 0 0]\n",
            " [1 0 0]\n",
            " [1 0 0]\n",
            " [1 0 0]\n",
            " [1 0 0]\n",
            " [1 0 0]\n",
            " [1 0 0]\n",
            " [1 0 0]\n",
            " [1 0 0]\n",
            " [1 0 0]\n",
            " [1 0 0]\n",
            " [1 0 0]\n",
            " [1 0 0]\n",
            " [1 0 0]\n",
            " [1 0 0]\n",
            " [1 0 0]\n",
            " [1 0 0]\n",
            " [1 0 0]\n",
            " [1 0 0]\n",
            " [1 0 0]\n",
            " [1 0 0]\n",
            " [1 0 0]\n",
            " [1 0 0]\n",
            " [1 0 0]\n",
            " [1 0 0]\n",
            " [1 0 0]\n",
            " [1 0 0]\n",
            " [1 0 0]\n",
            " [1 0 0]\n",
            " [1 0 0]\n",
            " [1 0 0]\n",
            " [1 0 0]\n",
            " [1 0 0]\n",
            " [1 0 0]\n",
            " [1 0 0]\n",
            " [1 0 0]\n",
            " [1 0 0]\n",
            " [1 0 0]\n",
            " [1 0 0]\n",
            " [1 0 0]\n",
            " [1 0 0]\n",
            " [1 0 0]\n",
            " [1 0 0]\n",
            " [1 0 0]\n",
            " [1 0 0]\n",
            " [1 0 0]\n",
            " [1 0 0]\n",
            " [1 0 0]\n",
            " [1 0 0]\n",
            " [1 0 0]\n",
            " [1 0 0]\n",
            " [1 0 0]\n",
            " [1 0 0]\n",
            " [1 0 0]\n",
            " [1 0 0]\n",
            " [1 0 0]\n",
            " [1 0 0]\n",
            " [1 0 0]\n",
            " [1 0 0]\n",
            " [1 0 0]\n",
            " [1 0 0]\n",
            " [1 0 0]\n",
            " [1 0 0]\n",
            " [1 0 0]\n",
            " [1 0 0]\n",
            " [1 0 0]\n",
            " [1 0 0]\n",
            " [1 0 0]\n",
            " [1 0 0]\n",
            " [1 0 0]\n",
            " [1 0 0]\n",
            " [1 0 0]\n",
            " [1 0 0]\n",
            " [1 0 0]\n",
            " [1 0 0]\n",
            " [1 0 0]\n",
            " [1 0 0]\n",
            " [1 0 0]\n",
            " [1 0 0]\n",
            " [1 0 0]\n",
            " [1 0 0]\n",
            " [1 0 0]\n",
            " [1 0 0]\n",
            " [1 0 0]\n",
            " [1 0 0]\n",
            " [1 0 0]\n",
            " [0 1 0]\n",
            " [0 1 0]\n",
            " [0 1 0]\n",
            " [0 1 0]\n",
            " [0 1 0]\n",
            " [0 1 0]\n",
            " [0 1 0]\n",
            " [0 1 0]\n",
            " [0 1 0]\n",
            " [0 1 0]\n",
            " [0 1 0]\n",
            " [0 1 0]\n",
            " [0 1 0]\n",
            " [0 1 0]\n",
            " [0 1 0]\n",
            " [0 1 0]\n",
            " [0 1 0]\n",
            " [0 1 0]\n",
            " [0 1 0]\n",
            " [0 1 0]\n",
            " [0 1 0]\n",
            " [0 1 0]\n",
            " [0 1 0]\n",
            " [0 1 0]\n",
            " [0 1 0]\n",
            " [0 1 0]\n",
            " [0 1 0]\n",
            " [0 1 0]\n",
            " [0 1 0]\n",
            " [0 1 0]\n",
            " [0 1 0]\n",
            " [0 1 0]\n",
            " [0 1 0]\n",
            " [0 1 0]\n",
            " [0 1 0]\n",
            " [0 1 0]\n",
            " [0 1 0]\n",
            " [0 1 0]\n",
            " [0 1 0]\n",
            " [0 1 0]\n",
            " [0 1 0]\n",
            " [0 1 0]\n",
            " [0 1 0]\n",
            " [0 1 0]\n",
            " [0 1 0]\n",
            " [0 1 0]\n",
            " [0 1 0]\n",
            " [0 1 0]\n",
            " [0 1 0]\n",
            " [0 1 0]\n",
            " [0 1 0]\n",
            " [0 1 0]\n",
            " [0 1 0]\n",
            " [0 1 0]\n",
            " [0 1 0]\n",
            " [0 1 0]\n",
            " [0 1 0]\n",
            " [0 1 0]\n",
            " [0 1 0]\n",
            " [0 1 0]\n",
            " [0 1 0]\n",
            " [0 1 0]\n",
            " [0 1 0]\n",
            " [0 1 0]\n",
            " [0 1 0]\n",
            " [0 1 0]\n",
            " [0 1 0]\n",
            " [0 1 0]\n",
            " [0 1 0]\n",
            " [0 1 0]\n",
            " [0 1 0]\n",
            " [0 1 0]\n",
            " [0 1 0]\n",
            " [0 1 0]\n",
            " [0 1 0]\n",
            " [0 1 0]]\n"
          ],
          "name": "stdout"
        }
      ]
    },
    {
      "cell_type": "code",
      "metadata": {
        "id": "ktZ5hNYwVGB9",
        "colab": {
          "base_uri": "https://localhost:8080/"
        },
        "outputId": "3dd97565-4a17-4acf-8c1a-898ba24c0ae3"
      },
      "source": [
        "(trainX, testX, trainY, testY) = train_test_split(np.array(data),\tnp.array(labels), test_size=0.2, shuffle=True)\n",
        "print(trainX.shape)\n",
        "print(testX.shape)"
      ],
      "execution_count": null,
      "outputs": [
        {
          "output_type": "stream",
          "text": [
            "(229, 224, 224, 3)\n",
            "(58, 224, 224, 3)\n"
          ],
          "name": "stdout"
        }
      ]
    },
    {
      "cell_type": "code",
      "metadata": {
        "colab": {
          "base_uri": "https://localhost:8080/"
        },
        "id": "MPzEsnUc_2Dg",
        "outputId": "3c563e36-32e0-4b14-f23a-3d3635741e55"
      },
      "source": [
        "from keras.layers import Convolution2D, MaxPooling2D\n",
        "from keras.models import Sequential\n",
        "from keras.layers.core import Flatten, Dense\n",
        "\n",
        "model1 = Sequential()\n",
        "model1.add(Convolution2D(8, (3,3), activation='relu', input_shape=(64,64,3)))\n",
        "model1.add(MaxPooling2D(2,2))\n",
        "model1.add(Convolution2D(16, (3,3), activation='relu'))\n",
        "model1.add(MaxPooling2D(2,2))\n",
        "#fully connected layer\n",
        "model1.add(Flatten())\n",
        "model1.add(Dense(100, activation='relu'))\n",
        "model1.add(Dense(3, activation='softmax'))\n",
        "\n",
        "model1.summary()"
      ],
      "execution_count": null,
      "outputs": [
        {
          "output_type": "stream",
          "text": [
            "Model: \"sequential_9\"\n",
            "_________________________________________________________________\n",
            "Layer (type)                 Output Shape              Param #   \n",
            "=================================================================\n",
            "conv2d_8 (Conv2D)            (None, 62, 62, 8)         224       \n",
            "_________________________________________________________________\n",
            "max_pooling2d_8 (MaxPooling2 (None, 31, 31, 8)         0         \n",
            "_________________________________________________________________\n",
            "conv2d_9 (Conv2D)            (None, 29, 29, 16)        1168      \n",
            "_________________________________________________________________\n",
            "max_pooling2d_9 (MaxPooling2 (None, 14, 14, 16)        0         \n",
            "_________________________________________________________________\n",
            "flatten_9 (Flatten)          (None, 3136)              0         \n",
            "_________________________________________________________________\n",
            "dense_8 (Dense)              (None, 100)               313700    \n",
            "_________________________________________________________________\n",
            "dense_9 (Dense)              (None, 3)                 303       \n",
            "=================================================================\n",
            "Total params: 315,395\n",
            "Trainable params: 315,395\n",
            "Non-trainable params: 0\n",
            "_________________________________________________________________\n"
          ],
          "name": "stdout"
        }
      ]
    },
    {
      "cell_type": "code",
      "metadata": {
        "id": "sny_9-wU8PGB"
      },
      "source": [
        "from keras.models import Sequential\n",
        "from keras.layers.core import Flatten\n",
        "from keras.layers.core import Dense\n",
        "\n",
        "model = Sequential(\n",
        "    [\n",
        "        Flatten(input_shape=(224*224*3,)),\n",
        "        Dense(100, activation=\"relu\", name=\"layer1\"),\n",
        "        Dense(16, activation=\"relu\", name=\"layer2\"),\n",
        "        Dense(16, activation=\"relu\", name=\"layer3\"),\n",
        "        Dense(3, activation = \"softmax\", name=\"layer4\"),\n",
        "    ]\n",
        ")"
      ],
      "execution_count": null,
      "outputs": []
    },
    {
      "cell_type": "code",
      "metadata": {
        "id": "L0TdWxuFPkT3",
        "colab": {
          "base_uri": "https://localhost:8080/"
        },
        "outputId": "3bbe1574-0412-4998-b17e-5ff0651fdf83"
      },
      "source": [
        "model.summary()"
      ],
      "execution_count": null,
      "outputs": [
        {
          "output_type": "stream",
          "text": [
            "Model: \"sequential_10\"\n",
            "_________________________________________________________________\n",
            "Layer (type)                 Output Shape              Param #   \n",
            "=================================================================\n",
            "flatten_10 (Flatten)         (None, 150528)            0         \n",
            "_________________________________________________________________\n",
            "layer1 (Dense)               (None, 100)               15052900  \n",
            "_________________________________________________________________\n",
            "layer2 (Dense)               (None, 16)                1616      \n",
            "_________________________________________________________________\n",
            "layer3 (Dense)               (None, 16)                272       \n",
            "_________________________________________________________________\n",
            "layer4 (Dense)               (None, 3)                 51        \n",
            "=================================================================\n",
            "Total params: 15,054,839\n",
            "Trainable params: 15,054,839\n",
            "Non-trainable params: 0\n",
            "_________________________________________________________________\n"
          ],
          "name": "stdout"
        }
      ]
    },
    {
      "cell_type": "code",
      "metadata": {
        "scrolled": true,
        "id": "ggcSdj_aVGCB",
        "colab": {
          "base_uri": "https://localhost:8080/"
        },
        "outputId": "fdf7cb76-e2b9-4d83-8232-7223039c1805"
      },
      "source": [
        "print(\"[INFO] training network...\")\n",
        "opt = Adam(learning_rate=1e-3, decay=1e-3 / 50)\n",
        "model.compile(loss=\"categorical_crossentropy\", optimizer=opt, metrics=[\"accuracy\"])\n"
      ],
      "execution_count": null,
      "outputs": [
        {
          "output_type": "stream",
          "text": [
            "[INFO] training network...\n"
          ],
          "name": "stdout"
        }
      ]
    },
    {
      "cell_type": "code",
      "metadata": {
        "colab": {
          "base_uri": "https://localhost:8080/"
        },
        "id": "NGKbnS_YAkHv",
        "outputId": "c3ef4fa4-b85d-4833-bbbb-b5872ca4be7d"
      },
      "source": [
        "H = model.fit(trainX, trainY, validation_data=(testX, testY), epochs=20, batch_size=32)"
      ],
      "execution_count": null,
      "outputs": [
        {
          "output_type": "stream",
          "text": [
            "Epoch 1/20\n",
            "8/8 [==============================] - 0s 31ms/step - loss: 0.1711 - accuracy: 0.9301 - val_loss: 1.1571 - val_accuracy: 0.5862\n",
            "Epoch 2/20\n",
            "8/8 [==============================] - 0s 26ms/step - loss: 0.1304 - accuracy: 0.9476 - val_loss: 1.4085 - val_accuracy: 0.5345\n",
            "Epoch 3/20\n",
            "8/8 [==============================] - 0s 26ms/step - loss: 0.1617 - accuracy: 0.9476 - val_loss: 1.2644 - val_accuracy: 0.5517\n",
            "Epoch 4/20\n",
            "8/8 [==============================] - 0s 25ms/step - loss: 0.1772 - accuracy: 0.9170 - val_loss: 1.7436 - val_accuracy: 0.5000\n",
            "Epoch 5/20\n",
            "8/8 [==============================] - 0s 26ms/step - loss: 0.5936 - accuracy: 0.7948 - val_loss: 3.8877 - val_accuracy: 0.4483\n",
            "Epoch 6/20\n",
            "8/8 [==============================] - 0s 26ms/step - loss: 0.7652 - accuracy: 0.7467 - val_loss: 1.7391 - val_accuracy: 0.6034\n",
            "Epoch 7/20\n",
            "8/8 [==============================] - 0s 24ms/step - loss: 0.4638 - accuracy: 0.8297 - val_loss: 1.4716 - val_accuracy: 0.5862\n",
            "Epoch 8/20\n",
            "8/8 [==============================] - 0s 26ms/step - loss: 0.2660 - accuracy: 0.8996 - val_loss: 1.4992 - val_accuracy: 0.5345\n",
            "Epoch 9/20\n",
            "8/8 [==============================] - 0s 27ms/step - loss: 0.2574 - accuracy: 0.8952 - val_loss: 1.2370 - val_accuracy: 0.6552\n",
            "Epoch 10/20\n",
            "8/8 [==============================] - 0s 27ms/step - loss: 0.1854 - accuracy: 0.9258 - val_loss: 1.3150 - val_accuracy: 0.5862\n",
            "Epoch 11/20\n",
            "8/8 [==============================] - 0s 26ms/step - loss: 0.3514 - accuracy: 0.8428 - val_loss: 1.4173 - val_accuracy: 0.5345\n",
            "Epoch 12/20\n",
            "8/8 [==============================] - 0s 26ms/step - loss: 0.1764 - accuracy: 0.9389 - val_loss: 1.3601 - val_accuracy: 0.5862\n",
            "Epoch 13/20\n",
            "8/8 [==============================] - 0s 26ms/step - loss: 0.1423 - accuracy: 0.9476 - val_loss: 1.2530 - val_accuracy: 0.5862\n",
            "Epoch 14/20\n",
            "8/8 [==============================] - 0s 26ms/step - loss: 0.1265 - accuracy: 0.9607 - val_loss: 1.4295 - val_accuracy: 0.5517\n",
            "Epoch 15/20\n",
            "8/8 [==============================] - 0s 26ms/step - loss: 0.1190 - accuracy: 0.9607 - val_loss: 1.2600 - val_accuracy: 0.6207\n",
            "Epoch 16/20\n",
            "8/8 [==============================] - 0s 27ms/step - loss: 0.1038 - accuracy: 0.9694 - val_loss: 1.3630 - val_accuracy: 0.5517\n",
            "Epoch 17/20\n",
            "8/8 [==============================] - 0s 26ms/step - loss: 0.1007 - accuracy: 0.9694 - val_loss: 1.3217 - val_accuracy: 0.6207\n",
            "Epoch 18/20\n",
            "8/8 [==============================] - 0s 26ms/step - loss: 0.1327 - accuracy: 0.9607 - val_loss: 1.3015 - val_accuracy: 0.6207\n",
            "Epoch 19/20\n",
            "8/8 [==============================] - 0s 26ms/step - loss: 0.1183 - accuracy: 0.9694 - val_loss: 1.5165 - val_accuracy: 0.5862\n",
            "Epoch 20/20\n",
            "8/8 [==============================] - 0s 24ms/step - loss: 0.1218 - accuracy: 0.9520 - val_loss: 1.5742 - val_accuracy: 0.5517\n"
          ],
          "name": "stdout"
        }
      ]
    },
    {
      "cell_type": "code",
      "metadata": {
        "id": "98_oXi-lcgux",
        "colab": {
          "base_uri": "https://localhost:8080/",
          "height": 591
        },
        "outputId": "290d8104-fc66-4fa0-a660-c81f1aed6ebc"
      },
      "source": [
        "import matplotlib.pyplot as plt\n",
        "\n",
        "print(H.history.keys())\n",
        "plt.plot(H.history['accuracy'])\n",
        "plt.plot(H.history['val_accuracy'])\n",
        "plt.title('model accuracy')\n",
        "plt.ylabel('accuracy')\n",
        "plt.xlabel('epoch')\n",
        "plt.legend(['train', 'test'], loc='upper left')\n",
        "plt.show()\n",
        "\n",
        "plt.plot(H.history['loss'])\n",
        "plt.plot(H.history['val_loss'])\n",
        "plt.title('model loss')\n",
        "plt.ylabel('loss')\n",
        "plt.xlabel('epoch')\n",
        "plt.legend(['train', 'test'], loc='upper left')\n",
        "plt.show()"
      ],
      "execution_count": null,
      "outputs": [
        {
          "output_type": "stream",
          "text": [
            "dict_keys(['loss', 'accuracy', 'val_loss', 'val_accuracy'])\n"
          ],
          "name": "stdout"
        },
        {
          "output_type": "display_data",
          "data": {
            "image/png": "[encoded data removed]",
            "text/plain": [
              "<Figure size 432x288 with 1 Axes>"
            ]
          },
          "metadata": {
            "tags": [],
            "needs_background": "light"
          }
        },
        {
          "output_type": "display_data",
          "data": {
            "image/png": "[encoded data removed]",
            "text/plain": [
              "<Figure size 432x288 with 1 Axes>"
            ]
          },
          "metadata": {
            "tags": [],
            "needs_background": "light"
          }
        }
      ]
    },
    {
      "cell_type": "code",
      "metadata": {
        "id": "lPAZkmBJVGCD",
        "colab": {
          "base_uri": "https://localhost:8080/"
        },
        "outputId": "2ee7fe90-619e-4116-d3ec-afe0442629c5"
      },
      "source": [
        "# evaluate the network\n",
        "print(\"[INFO] evaluating network...\")\n",
        "predictions = model.predict(testX, batch_size=32)\n",
        "print(classification_report(testY.argmax(axis=1),\n",
        "\tpredictions.argmax(axis=1), target_names=lb.classes_))"
      ],
      "execution_count": null,
      "outputs": [
        {
          "output_type": "stream",
          "text": [
            "[INFO] evaluating network...\n",
            "              precision    recall  f1-score   support\n",
            "\n",
            "cirrocumulus       0.60      0.30      0.40        20\n",
            "      cirrus       0.48      0.80      0.60        20\n",
            "   contrails       0.67      0.56      0.61        18\n",
            "\n",
            "    accuracy                           0.55        58\n",
            "   macro avg       0.58      0.55      0.54        58\n",
            "weighted avg       0.58      0.55      0.53        58\n",
            "\n"
          ],
          "name": "stdout"
        }
      ]
    },
    {
      "cell_type": "code",
      "metadata": {
        "id": "4uBcj8x8iwTw",
        "colab": {
          "base_uri": "https://localhost:8080/"
        },
        "outputId": "7b41e85a-920f-455e-cd94-4e8fda96cb4c"
      },
      "source": [
        "model.save('nnmodel_cloud')"
      ],
      "execution_count": null,
      "outputs": [
        {
          "output_type": "stream",
          "text": [
            "INFO:tensorflow:Assets written to: nnmodel_cloud/assets\n"
          ],
          "name": "stdout"
        }
      ]
    },
    {
      "cell_type": "code",
      "metadata": {
        "id": "AOwJT2jLVGCN"
      },
      "source": [
        "import cv2\n",
        "import matplotlib.pyplot as plt\n",
        "image1='/content/drive/MyDrive/Colab Notebooks/clouds/contrails/Ct-N001.jpg'"
      ],
      "execution_count": null,
      "outputs": []
    },
    {
      "cell_type": "code",
      "metadata": {
        "id": "PkM68K4GVGCP",
        "colab": {
          "base_uri": "https://localhost:8080/",
          "height": 269
        },
        "outputId": "52fff802-fe9b-4a90-ccb4-823076756cae"
      },
      "source": [
        "img_array = cv2.imread(image1)\n",
        "plt.imshow(img_array)\n",
        "plt.show()\n",
        "# print(type(img_array))"
      ],
      "execution_count": null,
      "outputs": [
        {
          "output_type": "display_data",
          "data": {
            "image/png": "[encoded data removed]",
            "text/plain": [
              "<Figure size 432x288 with 1 Axes>"
            ]
          },
          "metadata": {
            "tags": [],
            "needs_background": "light"
          }
        }
      ]
    },
    {
      "cell_type": "code",
      "metadata": {
        "id": "1ZkNY8LWVGCR",
        "colab": {
          "base_uri": "https://localhost:8080/"
        },
        "outputId": "a89a5bf2-af70-49d4-c648-98a0e888a6c8"
      },
      "source": [
        "image_testing = Image.open('/content/drive/MyDrive/Colab Notebooks/clouds/contrails/Ct-N001.jpg')\n",
        "image_testing = np.array(image_testing.resize((224, 224))) / 255.0\n",
        "image_testing.shape"
      ],
      "execution_count": null,
      "outputs": [
        {
          "output_type": "execute_result",
          "data": {
            "text/plain": [
              "(224, 224, 3)"
            ]
          },
          "metadata": {
            "tags": []
          },
          "execution_count": 91
        }
      ]
    },
    {
      "cell_type": "code",
      "metadata": {
        "id": "qL66nfOcVGCT",
        "colab": {
          "base_uri": "https://localhost:8080/"
        },
        "outputId": "2695bc96-5791-4c65-a4ea-abad94bb44bc"
      },
      "source": [
        "image_testing = np.expand_dims(image_testing, axis=0)\n",
        "print(image_testing.shape)"
      ],
      "execution_count": null,
      "outputs": [
        {
          "output_type": "stream",
          "text": [
            "(1, 224, 224, 3)\n"
          ],
          "name": "stdout"
        }
      ]
    },
    {
      "cell_type": "code",
      "metadata": {
        "id": "vTy9yP1AVGCV",
        "colab": {
          "base_uri": "https://localhost:8080/"
        },
        "outputId": "6c7bc7ad-c72c-4f1a-903b-c80e6e19fe2d"
      },
      "source": [
        "output = model.predict(image_testing, 1)\n",
        "print(output)\n",
        "print(lb.classes_[output.argmax(axis=1)])"
      ],
      "execution_count": null,
      "outputs": [
        {
          "output_type": "stream",
          "text": [
            "[[3.2721102e-05 1.9880036e-01 8.0116695e-01]]\n",
            "['contrails']\n"
          ],
          "name": "stdout"
        }
      ]
    }
  ]
}